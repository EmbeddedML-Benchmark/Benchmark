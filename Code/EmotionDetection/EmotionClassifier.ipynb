{
 "cells": [
  {
   "cell_type": "markdown",
   "metadata": {},
   "source": [
    "## *Imports*\n",
    "\n",
    "Install necessary packages for emotional classifer."
   ]
  },
  {
   "cell_type": "code",
   "execution_count": 5,
   "metadata": {},
   "outputs": [],
   "source": [
    "import pickle\n",
    "import numpy as np\n",
    "import pandas as pd\n",
    "import seaborn as sns\n",
    "import tensorflow as tf\n",
    "import matplotlib.pyplot as plt\n",
    "\n",
    "from tensorflow.keras.models import Model, Sequential\n",
    "from tensorflow.keras.layers import Dense, Input, Embedding, LSTM, Dropout, Lambda, Layer\n",
    "from transformers import TFAutoModel, AutoTokenizer\n",
    "from sklearn.model_selection import train_test_split\n",
    "from sklearn.metrics import classification_report, confusion_matrix\n",
    "from tensorflow.keras.preprocessing.text import Tokenizer\n",
    "from tensorflow.keras.preprocessing.sequence import pad_sequences\n"
   ]
  },
  {
   "cell_type": "markdown",
   "metadata": {},
   "source": [
    "## *Data Preprocessing & Splitting*"
   ]
  },
  {
   "cell_type": "code",
   "execution_count": null,
   "metadata": {},
   "outputs": [
    {
     "name": "stdout",
     "output_type": "stream",
     "text": [
      "Word-based tokenization:\n",
      "X_train shape: 4935\n",
      "X_test shape: 1234\n",
      "Y_train shape: 4935\n",
      "\n",
      "BERT-based tokenization:\n",
      "X_train shape: (4935, 50)\n",
      "X_test shape: (1234, 50)\n"
     ]
    }
   ],
   "source": [
    "df = pd.read_csv(\"EmotionDataset/emotions_dataset.csv\")\n",
    "\n",
    "word_tokenizer = Tokenizer(num_words=10000, oov_token=\"<OOV>\")\n",
    "word_tokenizer.fit_on_texts(df['sentence'])\n",
    "\n",
    "bert_tokenizer = AutoTokenizer.from_pretrained(\"HooshvareLab/bert-fa-base-uncased\")\n",
    "\n",
    "sentences = df['sentence'].tolist()\n",
    "labels = pd.factorize(df['emotion'])[0]\n",
    "\n",
    "X_train, X_test, y_train, y_test = train_test_split(sentences, labels, test_size=0.2, random_state=42, stratify=labels)\n",
    "\n",
    "X_train_word_tokens = word_tokenizer.texts_to_sequences(X_train)\n",
    "X_test_word_tokens = word_tokenizer.texts_to_sequences(X_test)\n",
    "\n",
    "X_train_bert_tokens = bert_tokenizer(X_train, padding=\"max_length\", truncation=True, max_length=50, return_tensors=\"tf\")\n",
    "X_test_bert_tokens = bert_tokenizer(X_test, padding=\"max_length\", truncation=True, max_length=50, return_tensors=\"tf\")\n",
    "\n",
    "with open(\"word_tokenizer.pkl\", \"wb\") as f:\n",
    "    pickle.dump(word_tokenizer, f)\n",
    "\n",
    "with open(\"bert_tokenizer.pkl\", \"wb\") as f:\n",
    "    pickle.dump(bert_tokenizer, f)\n",
    "\n",
    "print(\"Word-based tokenization:\")\n",
    "print(\"X_train shape:\", len(X_train_word_tokens))\n",
    "print(\"Y_train shape:\", len(y_train))\n",
    "print(\"X_test shape:\", len(X_test_word_tokens))\n",
    "\n",
    "print(\"\\nBERT-based tokenization:\")\n",
    "print(\"X_train shape:\", X_train_bert_tokens['input_ids'].shape)\n",
    "print(\"X_test shape:\", X_test_bert_tokens['input_ids'].shape)\n"
   ]
  },
  {
   "cell_type": "markdown",
   "metadata": {},
   "source": [
    "## *Training High-Parameter Model (BERT-based)*"
   ]
  },
  {
   "cell_type": "code",
   "execution_count": 8,
   "metadata": {},
   "outputs": [
    {
     "name": "stdout",
     "output_type": "stream",
     "text": [
      "WARNING:tensorflow:From C:\\Users\\ROG\\AppData\\Roaming\\Python\\Python311\\site-packages\\tf_keras\\src\\losses.py:2976: The name tf.losses.sparse_softmax_cross_entropy is deprecated. Please use tf.compat.v1.losses.sparse_softmax_cross_entropy instead.\n",
      "\n",
      "WARNING:tensorflow:From C:\\Users\\ROG\\AppData\\Roaming\\Python\\Python311\\site-packages\\tf_keras\\src\\backend.py:873: The name tf.get_default_graph is deprecated. Please use tf.compat.v1.get_default_graph instead.\n",
      "\n"
     ]
    },
    {
     "name": "stderr",
     "output_type": "stream",
     "text": [
      "Some layers from the model checkpoint at HooshvareLab/bert-fa-base-uncased were not used when initializing TFBertModel: ['mlm___cls', 'nsp___cls']\n",
      "- This IS expected if you are initializing TFBertModel from the checkpoint of a model trained on another task or with another architecture (e.g. initializing a BertForSequenceClassification model from a BertForPreTraining model).\n",
      "- This IS NOT expected if you are initializing TFBertModel from the checkpoint of a model that you expect to be exactly identical (initializing a BertForSequenceClassification model from a BertForSequenceClassification model).\n",
      "All the layers of TFBertModel were initialized from the model checkpoint at HooshvareLab/bert-fa-base-uncased.\n",
      "If your task is similar to the task the model of the checkpoint was trained on, you can already use TFBertModel for predictions without further training.\n"
     ]
    }
   ],
   "source": [
    "MODEL_NAME = \"HooshvareLab/bert-fa-base-uncased\"\n",
    "tokenizer = AutoTokenizer.from_pretrained(MODEL_NAME)\n",
    "bert_model = TFAutoModel.from_pretrained(MODEL_NAME)"
   ]
  },
  {
   "cell_type": "code",
   "execution_count": 12,
   "metadata": {},
   "outputs": [
    {
     "name": "stdout",
     "output_type": "stream",
     "text": [
      "X_train input_ids shape: (4935, 50)\n",
      "X_train attention_mask shape: (4935, 50)\n",
      "y_train shape: 4935\n"
     ]
    }
   ],
   "source": [
    "MAX_LEN = 50\n",
    "\n",
    "print(\"X_train input_ids shape:\", X_train_bert_tokens['input_ids'].shape)\n",
    "print(\"X_train attention_mask shape:\", X_train_bert_tokens['attention_mask'].shape)\n",
    "print(\"y_train shape:\", len(y_train))"
   ]
  },
  {
   "cell_type": "code",
   "execution_count": 13,
   "metadata": {},
   "outputs": [
    {
     "name": "stdout",
     "output_type": "stream",
     "text": [
      "WARNING:tensorflow:From C:\\Users\\ROG\\AppData\\Roaming\\Python\\Python311\\site-packages\\keras\\src\\backend\\tensorflow\\core.py:222: The name tf.placeholder is deprecated. Please use tf.compat.v1.placeholder instead.\n",
      "\n"
     ]
    }
   ],
   "source": [
    "class BertLayer(Layer):\n",
    "    def __init__(self, bert_model, **kwargs):\n",
    "        super(BertLayer, self).__init__(**kwargs)\n",
    "        self.bert_model = bert_model\n",
    "\n",
    "    def call(self, inputs):\n",
    "        input_ids, attention_mask = inputs\n",
    "        bert_output = self.bert_model(input_ids, attention_mask=attention_mask)\n",
    "        return bert_output.pooler_output  # Extract CLS token output\n",
    "\n",
    "input_ids = Input(shape=(MAX_LEN,), dtype=tf.int32, name=\"input_ids\")\n",
    "attention_mask = Input(shape=(MAX_LEN,), dtype=tf.int32, name=\"attention_mask\")\n",
    "\n",
    "bert_output = BertLayer(bert_model)([input_ids, attention_mask])\n",
    "\n",
    "dense = Dense(128, activation='relu')(bert_output)\n",
    "output = Dense(len(set(labels)), activation='softmax')(dense)\n",
    "\n",
    "model_parsbert = Model(inputs=[input_ids, attention_mask], outputs=output)\n",
    "\n",
    "model_parsbert.compile(optimizer='adam', loss='sparse_categorical_crossentropy', metrics=['accuracy'])"
   ]
  },
  {
   "cell_type": "code",
   "execution_count": 16,
   "metadata": {},
   "outputs": [
    {
     "name": "stdout",
     "output_type": "stream",
     "text": [
      "Epoch 1/5\n",
      "\u001b[1m309/309\u001b[0m \u001b[32m━━━━━━━━━━━━━━━━━━━━\u001b[0m\u001b[37m\u001b[0m \u001b[1m137s\u001b[0m 419ms/step - accuracy: 0.5979 - loss: 1.2908 - val_accuracy: 0.8444 - val_loss: 0.4703\n",
      "Epoch 2/5\n",
      "\u001b[1m309/309\u001b[0m \u001b[32m━━━━━━━━━━━━━━━━━━━━\u001b[0m\u001b[37m\u001b[0m \u001b[1m125s\u001b[0m 404ms/step - accuracy: 0.8681 - loss: 0.4166 - val_accuracy: 0.8501 - val_loss: 0.4301\n",
      "Epoch 3/5\n",
      "\u001b[1m309/309\u001b[0m \u001b[32m━━━━━━━━━━━━━━━━━━━━\u001b[0m\u001b[37m\u001b[0m \u001b[1m130s\u001b[0m 420ms/step - accuracy: 0.8925 - loss: 0.3258 - val_accuracy: 0.9052 - val_loss: 0.2833\n",
      "Epoch 4/5\n",
      "\u001b[1m309/309\u001b[0m \u001b[32m━━━━━━━━━━━━━━━━━━━━\u001b[0m\u001b[37m\u001b[0m \u001b[1m153s\u001b[0m 495ms/step - accuracy: 0.9173 - loss: 0.2504 - val_accuracy: 0.9068 - val_loss: 0.2650\n",
      "Epoch 5/5\n",
      "\u001b[1m309/309\u001b[0m \u001b[32m━━━━━━━━━━━━━━━━━━━━\u001b[0m\u001b[37m\u001b[0m \u001b[1m156s\u001b[0m 504ms/step - accuracy: 0.9310 - loss: 0.2090 - val_accuracy: 0.9230 - val_loss: 0.2403\n"
     ]
    },
    {
     "data": {
      "text/plain": [
       "<keras.src.callbacks.history.History at 0x1c175baa550>"
      ]
     },
     "execution_count": 16,
     "metadata": {},
     "output_type": "execute_result"
    }
   ],
   "source": [
    "model_parsbert.fit(\n",
    "    x=[X_train_bert_tokens['input_ids'], X_train_bert_tokens['attention_mask']], \n",
    "    y=np.array(y_train),  # Ensure y_train is a NumPy array\n",
    "    epochs=5, batch_size=16, \n",
    "    validation_data=([X_test_bert_tokens['input_ids'], X_test_bert_tokens['attention_mask']], np.array(y_test))\n",
    ")\n"
   ]
  },
  {
   "cell_type": "markdown",
   "metadata": {},
   "source": [
    "## *Convert BERT Model to TFLite*"
   ]
  },
  {
   "cell_type": "code",
   "execution_count": 17,
   "metadata": {},
   "outputs": [
    {
     "name": "stdout",
     "output_type": "stream",
     "text": [
      "INFO:tensorflow:Assets written to: C:\\Users\\ROG\\AppData\\Local\\Temp\\tmp5wycaj33\\assets\n"
     ]
    },
    {
     "name": "stderr",
     "output_type": "stream",
     "text": [
      "INFO:tensorflow:Assets written to: C:\\Users\\ROG\\AppData\\Local\\Temp\\tmp5wycaj33\\assets\n"
     ]
    },
    {
     "name": "stdout",
     "output_type": "stream",
     "text": [
      "Saved artifact at 'C:\\Users\\ROG\\AppData\\Local\\Temp\\tmp5wycaj33'. The following endpoints are available:\n",
      "\n",
      "* Endpoint 'serve'\n",
      "  args_0 (POSITIONAL_ONLY): List[TensorSpec(shape=(None, 50), dtype=tf.int32, name='input_ids'), TensorSpec(shape=(None, 50), dtype=tf.int32, name='attention_mask')]\n",
      "Output Type:\n",
      "  TensorSpec(shape=(None, 12), dtype=tf.float32, name=None)\n",
      "Captures:\n",
      "  1930404511568: TensorSpec(shape=(), dtype=tf.resource, name=None)\n",
      "  1930404510800: TensorSpec(shape=(), dtype=tf.resource, name=None)\n",
      "  1930411049808: TensorSpec(shape=(), dtype=tf.resource, name=None)\n",
      "  1930404511376: TensorSpec(shape=(), dtype=tf.resource, name=None)\n",
      "  1930411049232: TensorSpec(shape=(), dtype=tf.resource, name=None)\n",
      "  1930411050000: TensorSpec(shape=(), dtype=tf.resource, name=None)\n",
      "  1930411049040: TensorSpec(shape=(), dtype=tf.resource, name=None)\n",
      "  1930411049616: TensorSpec(shape=(), dtype=tf.resource, name=None)\n",
      "  1930411050384: TensorSpec(shape=(), dtype=tf.resource, name=None)\n",
      "  1930411050576: TensorSpec(shape=(), dtype=tf.resource, name=None)\n",
      "  1930411051152: TensorSpec(shape=(), dtype=tf.resource, name=None)\n",
      "  1930411050960: TensorSpec(shape=(), dtype=tf.resource, name=None)\n",
      "  1930411051536: TensorSpec(shape=(), dtype=tf.resource, name=None)\n",
      "  1930411051728: TensorSpec(shape=(), dtype=tf.resource, name=None)\n",
      "  1930411052304: TensorSpec(shape=(), dtype=tf.resource, name=None)\n",
      "  1930411052112: TensorSpec(shape=(), dtype=tf.resource, name=None)\n",
      "  1930411051344: TensorSpec(shape=(), dtype=tf.resource, name=None)\n",
      "  1930411050768: TensorSpec(shape=(), dtype=tf.resource, name=None)\n",
      "  1930411051920: TensorSpec(shape=(), dtype=tf.resource, name=None)\n",
      "  1930411052880: TensorSpec(shape=(), dtype=tf.resource, name=None)\n",
      "  1930411053456: TensorSpec(shape=(), dtype=tf.resource, name=None)\n",
      "  1930411053264: TensorSpec(shape=(), dtype=tf.resource, name=None)\n",
      "  1930411052688: TensorSpec(shape=(), dtype=tf.resource, name=None)\n",
      "  1930411050192: TensorSpec(shape=(), dtype=tf.resource, name=None)\n",
      "  1930411053072: TensorSpec(shape=(), dtype=tf.resource, name=None)\n",
      "  1930404509840: TensorSpec(shape=(), dtype=tf.resource, name=None)\n",
      "  1930411054608: TensorSpec(shape=(), dtype=tf.resource, name=None)\n",
      "  1930404510416: TensorSpec(shape=(), dtype=tf.resource, name=None)\n",
      "  1930411054800: TensorSpec(shape=(), dtype=tf.resource, name=None)\n",
      "  1930411053840: TensorSpec(shape=(), dtype=tf.resource, name=None)\n",
      "  1930411054992: TensorSpec(shape=(), dtype=tf.resource, name=None)\n",
      "  1930411054416: TensorSpec(shape=(), dtype=tf.resource, name=None)\n",
      "  1930411054224: TensorSpec(shape=(), dtype=tf.resource, name=None)\n",
      "  1930411052496: TensorSpec(shape=(), dtype=tf.resource, name=None)\n",
      "  1930411054032: TensorSpec(shape=(), dtype=tf.resource, name=None)\n",
      "  1930411055568: TensorSpec(shape=(), dtype=tf.resource, name=None)\n",
      "  1930411056144: TensorSpec(shape=(), dtype=tf.resource, name=None)\n",
      "  1930411055952: TensorSpec(shape=(), dtype=tf.resource, name=None)\n",
      "  1930411055376: TensorSpec(shape=(), dtype=tf.resource, name=None)\n",
      "  1930411053648: TensorSpec(shape=(), dtype=tf.resource, name=None)\n",
      "  1930411055760: TensorSpec(shape=(), dtype=tf.resource, name=None)\n",
      "  1930411056528: TensorSpec(shape=(), dtype=tf.resource, name=None)\n",
      "  1930411056912: TensorSpec(shape=(), dtype=tf.resource, name=None)\n",
      "  1930411056720: TensorSpec(shape=(), dtype=tf.resource, name=None)\n",
      "  1930411057296: TensorSpec(shape=(), dtype=tf.resource, name=None)\n",
      "  1930411058064: TensorSpec(shape=(), dtype=tf.resource, name=None)\n",
      "  1930411057680: TensorSpec(shape=(), dtype=tf.resource, name=None)\n",
      "  1930411058256: TensorSpec(shape=(), dtype=tf.resource, name=None)\n",
      "  1930411057872: TensorSpec(shape=(), dtype=tf.resource, name=None)\n",
      "  1930411057488: TensorSpec(shape=(), dtype=tf.resource, name=None)\n",
      "  1930411056336: TensorSpec(shape=(), dtype=tf.resource, name=None)\n",
      "  1930411059408: TensorSpec(shape=(), dtype=tf.resource, name=None)\n",
      "  1930411059024: TensorSpec(shape=(), dtype=tf.resource, name=None)\n",
      "  1930411059600: TensorSpec(shape=(), dtype=tf.resource, name=None)\n",
      "  1930411059216: TensorSpec(shape=(), dtype=tf.resource, name=None)\n",
      "  1930411058832: TensorSpec(shape=(), dtype=tf.resource, name=None)\n",
      "  1930411058448: TensorSpec(shape=(), dtype=tf.resource, name=None)\n",
      "  1930411059984: TensorSpec(shape=(), dtype=tf.resource, name=None)\n",
      "  1930411060368: TensorSpec(shape=(), dtype=tf.resource, name=None)\n",
      "  1930411060176: TensorSpec(shape=(), dtype=tf.resource, name=None)\n",
      "  1930411060752: TensorSpec(shape=(), dtype=tf.resource, name=None)\n",
      "  1930411060944: TensorSpec(shape=(), dtype=tf.resource, name=None)\n",
      "  1930411061520: TensorSpec(shape=(), dtype=tf.resource, name=None)\n",
      "  1930411061328: TensorSpec(shape=(), dtype=tf.resource, name=None)\n",
      "  1930411060560: TensorSpec(shape=(), dtype=tf.resource, name=None)\n",
      "  1930411058640: TensorSpec(shape=(), dtype=tf.resource, name=None)\n",
      "  1930411061136: TensorSpec(shape=(), dtype=tf.resource, name=None)\n",
      "  1930411062096: TensorSpec(shape=(), dtype=tf.resource, name=None)\n",
      "  1930411062672: TensorSpec(shape=(), dtype=tf.resource, name=None)\n",
      "  1930411062480: TensorSpec(shape=(), dtype=tf.resource, name=None)\n",
      "  1930411061904: TensorSpec(shape=(), dtype=tf.resource, name=None)\n",
      "  1930411059792: TensorSpec(shape=(), dtype=tf.resource, name=None)\n",
      "  1930411062288: TensorSpec(shape=(), dtype=tf.resource, name=None)\n",
      "  1930411063056: TensorSpec(shape=(), dtype=tf.resource, name=None)\n",
      "  1930411063440: TensorSpec(shape=(), dtype=tf.resource, name=None)\n",
      "  1930411063248: TensorSpec(shape=(), dtype=tf.resource, name=None)\n",
      "  1930411063824: TensorSpec(shape=(), dtype=tf.resource, name=None)\n",
      "  1930411064016: TensorSpec(shape=(), dtype=tf.resource, name=None)\n",
      "  1930411064592: TensorSpec(shape=(), dtype=tf.resource, name=None)\n",
      "  1930411064400: TensorSpec(shape=(), dtype=tf.resource, name=None)\n",
      "  1930411063632: TensorSpec(shape=(), dtype=tf.resource, name=None)\n",
      "  1930411062864: TensorSpec(shape=(), dtype=tf.resource, name=None)\n",
      "  1930411061712: TensorSpec(shape=(), dtype=tf.resource, name=None)\n",
      "  1930411064976: TensorSpec(shape=(), dtype=tf.resource, name=None)\n",
      "  1930411065168: TensorSpec(shape=(), dtype=tf.resource, name=None)\n",
      "  1930411064208: TensorSpec(shape=(), dtype=tf.resource, name=None)\n",
      "  1930411064784: TensorSpec(shape=(), dtype=tf.resource, name=None)\n",
      "  1930411311952: TensorSpec(shape=(), dtype=tf.resource, name=None)\n",
      "  1930411311760: TensorSpec(shape=(), dtype=tf.resource, name=None)\n",
      "  1930411311376: TensorSpec(shape=(), dtype=tf.resource, name=None)\n",
      "  1930411311568: TensorSpec(shape=(), dtype=tf.resource, name=None)\n",
      "  1930411312336: TensorSpec(shape=(), dtype=tf.resource, name=None)\n",
      "  1930411312720: TensorSpec(shape=(), dtype=tf.resource, name=None)\n",
      "  1930411312912: TensorSpec(shape=(), dtype=tf.resource, name=None)\n",
      "  1930411313488: TensorSpec(shape=(), dtype=tf.resource, name=None)\n",
      "  1930411313296: TensorSpec(shape=(), dtype=tf.resource, name=None)\n",
      "  1930411312528: TensorSpec(shape=(), dtype=tf.resource, name=None)\n",
      "  1930411312144: TensorSpec(shape=(), dtype=tf.resource, name=None)\n",
      "  1930411313104: TensorSpec(shape=(), dtype=tf.resource, name=None)\n",
      "  1930411314064: TensorSpec(shape=(), dtype=tf.resource, name=None)\n",
      "  1930411314640: TensorSpec(shape=(), dtype=tf.resource, name=None)\n",
      "  1930411314448: TensorSpec(shape=(), dtype=tf.resource, name=None)\n",
      "  1930411313872: TensorSpec(shape=(), dtype=tf.resource, name=None)\n",
      "  1930411311184: TensorSpec(shape=(), dtype=tf.resource, name=None)\n",
      "  1930411314256: TensorSpec(shape=(), dtype=tf.resource, name=None)\n",
      "  1930411315024: TensorSpec(shape=(), dtype=tf.resource, name=None)\n",
      "  1930411315408: TensorSpec(shape=(), dtype=tf.resource, name=None)\n",
      "  1930411315216: TensorSpec(shape=(), dtype=tf.resource, name=None)\n",
      "  1930411315792: TensorSpec(shape=(), dtype=tf.resource, name=None)\n",
      "  1930411315984: TensorSpec(shape=(), dtype=tf.resource, name=None)\n",
      "  1930411316560: TensorSpec(shape=(), dtype=tf.resource, name=None)\n",
      "  1930411316368: TensorSpec(shape=(), dtype=tf.resource, name=None)\n",
      "  1930411315600: TensorSpec(shape=(), dtype=tf.resource, name=None)\n",
      "  1930411313680: TensorSpec(shape=(), dtype=tf.resource, name=None)\n",
      "  1930411316176: TensorSpec(shape=(), dtype=tf.resource, name=None)\n",
      "  1930411317136: TensorSpec(shape=(), dtype=tf.resource, name=None)\n",
      "  1930411317712: TensorSpec(shape=(), dtype=tf.resource, name=None)\n",
      "  1930411317520: TensorSpec(shape=(), dtype=tf.resource, name=None)\n",
      "  1930411316944: TensorSpec(shape=(), dtype=tf.resource, name=None)\n",
      "  1930411314832: TensorSpec(shape=(), dtype=tf.resource, name=None)\n",
      "  1930411317328: TensorSpec(shape=(), dtype=tf.resource, name=None)\n",
      "  1930411318096: TensorSpec(shape=(), dtype=tf.resource, name=None)\n",
      "  1930411318480: TensorSpec(shape=(), dtype=tf.resource, name=None)\n",
      "  1930411318288: TensorSpec(shape=(), dtype=tf.resource, name=None)\n",
      "  1930411318864: TensorSpec(shape=(), dtype=tf.resource, name=None)\n",
      "  1930411319056: TensorSpec(shape=(), dtype=tf.resource, name=None)\n",
      "  1930411319632: TensorSpec(shape=(), dtype=tf.resource, name=None)\n",
      "  1930411319440: TensorSpec(shape=(), dtype=tf.resource, name=None)\n",
      "  1930411318672: TensorSpec(shape=(), dtype=tf.resource, name=None)\n",
      "  1930411316752: TensorSpec(shape=(), dtype=tf.resource, name=None)\n",
      "  1930411319248: TensorSpec(shape=(), dtype=tf.resource, name=None)\n",
      "  1930411320208: TensorSpec(shape=(), dtype=tf.resource, name=None)\n",
      "  1930411320784: TensorSpec(shape=(), dtype=tf.resource, name=None)\n",
      "  1930411320592: TensorSpec(shape=(), dtype=tf.resource, name=None)\n",
      "  1930411320016: TensorSpec(shape=(), dtype=tf.resource, name=None)\n",
      "  1930411317904: TensorSpec(shape=(), dtype=tf.resource, name=None)\n",
      "  1930411320400: TensorSpec(shape=(), dtype=tf.resource, name=None)\n",
      "  1930411321168: TensorSpec(shape=(), dtype=tf.resource, name=None)\n",
      "  1930411321552: TensorSpec(shape=(), dtype=tf.resource, name=None)\n",
      "  1930411321360: TensorSpec(shape=(), dtype=tf.resource, name=None)\n",
      "  1930411321936: TensorSpec(shape=(), dtype=tf.resource, name=None)\n",
      "  1930411322128: TensorSpec(shape=(), dtype=tf.resource, name=None)\n",
      "  1930411322704: TensorSpec(shape=(), dtype=tf.resource, name=None)\n",
      "  1930411322512: TensorSpec(shape=(), dtype=tf.resource, name=None)\n",
      "  1930411321744: TensorSpec(shape=(), dtype=tf.resource, name=None)\n",
      "  1930411319824: TensorSpec(shape=(), dtype=tf.resource, name=None)\n",
      "  1930411322320: TensorSpec(shape=(), dtype=tf.resource, name=None)\n",
      "  1930411323280: TensorSpec(shape=(), dtype=tf.resource, name=None)\n",
      "  1930411323856: TensorSpec(shape=(), dtype=tf.resource, name=None)\n",
      "  1930411323664: TensorSpec(shape=(), dtype=tf.resource, name=None)\n",
      "  1930411323088: TensorSpec(shape=(), dtype=tf.resource, name=None)\n",
      "  1930411320976: TensorSpec(shape=(), dtype=tf.resource, name=None)\n",
      "  1930411323472: TensorSpec(shape=(), dtype=tf.resource, name=None)\n",
      "  1930411324240: TensorSpec(shape=(), dtype=tf.resource, name=None)\n",
      "  1930411324624: TensorSpec(shape=(), dtype=tf.resource, name=None)\n",
      "  1930411324432: TensorSpec(shape=(), dtype=tf.resource, name=None)\n",
      "  1930411325008: TensorSpec(shape=(), dtype=tf.resource, name=None)\n",
      "  1930411325200: TensorSpec(shape=(), dtype=tf.resource, name=None)\n",
      "  1930411325776: TensorSpec(shape=(), dtype=tf.resource, name=None)\n",
      "  1930411325584: TensorSpec(shape=(), dtype=tf.resource, name=None)\n",
      "  1930411324816: TensorSpec(shape=(), dtype=tf.resource, name=None)\n",
      "  1930411322896: TensorSpec(shape=(), dtype=tf.resource, name=None)\n",
      "  1930411325392: TensorSpec(shape=(), dtype=tf.resource, name=None)\n",
      "  1930411326352: TensorSpec(shape=(), dtype=tf.resource, name=None)\n",
      "  1930411326928: TensorSpec(shape=(), dtype=tf.resource, name=None)\n",
      "  1930411326736: TensorSpec(shape=(), dtype=tf.resource, name=None)\n",
      "  1930411326160: TensorSpec(shape=(), dtype=tf.resource, name=None)\n",
      "  1930411325968: TensorSpec(shape=(), dtype=tf.resource, name=None)\n",
      "  1930411324048: TensorSpec(shape=(), dtype=tf.resource, name=None)\n",
      "  1930411327312: TensorSpec(shape=(), dtype=tf.resource, name=None)\n",
      "  1930411327120: TensorSpec(shape=(), dtype=tf.resource, name=None)\n",
      "  1930411326544: TensorSpec(shape=(), dtype=tf.resource, name=None)\n",
      "  1930411507984: TensorSpec(shape=(), dtype=tf.resource, name=None)\n",
      "  1930411508176: TensorSpec(shape=(), dtype=tf.resource, name=None)\n",
      "  1930411509136: TensorSpec(shape=(), dtype=tf.resource, name=None)\n",
      "  1930411508944: TensorSpec(shape=(), dtype=tf.resource, name=None)\n",
      "  1930411508368: TensorSpec(shape=(), dtype=tf.resource, name=None)\n",
      "  1930411508560: TensorSpec(shape=(), dtype=tf.resource, name=None)\n",
      "  1930411507792: TensorSpec(shape=(), dtype=tf.resource, name=None)\n",
      "  1930411509712: TensorSpec(shape=(), dtype=tf.resource, name=None)\n",
      "  1930411510288: TensorSpec(shape=(), dtype=tf.resource, name=None)\n",
      "  1930411510096: TensorSpec(shape=(), dtype=tf.resource, name=None)\n",
      "  1930411509520: TensorSpec(shape=(), dtype=tf.resource, name=None)\n",
      "  1930411508752: TensorSpec(shape=(), dtype=tf.resource, name=None)\n",
      "  1930411509904: TensorSpec(shape=(), dtype=tf.resource, name=None)\n",
      "  1930411510672: TensorSpec(shape=(), dtype=tf.resource, name=None)\n",
      "  1930411511056: TensorSpec(shape=(), dtype=tf.resource, name=None)\n",
      "  1930411510864: TensorSpec(shape=(), dtype=tf.resource, name=None)\n",
      "  1930411511440: TensorSpec(shape=(), dtype=tf.resource, name=None)\n",
      "  1930411511632: TensorSpec(shape=(), dtype=tf.resource, name=None)\n",
      "  1930411512208: TensorSpec(shape=(), dtype=tf.resource, name=None)\n",
      "  1930411512016: TensorSpec(shape=(), dtype=tf.resource, name=None)\n",
      "  1930411511248: TensorSpec(shape=(), dtype=tf.resource, name=None)\n",
      "  1930411509328: TensorSpec(shape=(), dtype=tf.resource, name=None)\n",
      "  1930411511824: TensorSpec(shape=(), dtype=tf.resource, name=None)\n",
      "  1930411512784: TensorSpec(shape=(), dtype=tf.resource, name=None)\n",
      "  1930411513360: TensorSpec(shape=(), dtype=tf.resource, name=None)\n",
      "  1930411513168: TensorSpec(shape=(), dtype=tf.resource, name=None)\n",
      "  1930411512592: TensorSpec(shape=(), dtype=tf.resource, name=None)\n",
      "  1928502971856: TensorSpec(shape=(), dtype=tf.resource, name=None)\n",
      "  1930480317264: TensorSpec(shape=(), dtype=tf.resource, name=None)\n",
      "  1930480316688: TensorSpec(shape=(), dtype=tf.resource, name=None)\n",
      "  1930480318416: TensorSpec(shape=(), dtype=tf.resource, name=None)\n"
     ]
    }
   ],
   "source": [
    "converter = tf.lite.TFLiteConverter.from_keras_model(model_parsbert)\n",
    "converter.optimizations = [tf.lite.Optimize.DEFAULT]\n",
    "tflite_parsbert = converter.convert()\n",
    "\n",
    "with open(\"Models/parsbert_emotion_model.tflite\", \"wb\") as f:\n",
    "    f.write(tflite_parsbert)"
   ]
  },
  {
   "cell_type": "markdown",
   "metadata": {},
   "source": [
    "## *Training Lightweight Model (LSTM)*"
   ]
  },
  {
   "cell_type": "code",
   "execution_count": 22,
   "metadata": {},
   "outputs": [],
   "source": [
    "MAX_SEQ_LENGTH = 50  \n",
    "\n",
    "X_train_padded = pad_sequences(X_train_word_tokens, maxlen=MAX_SEQ_LENGTH, padding='post', truncating='post')\n",
    "X_test_padded = pad_sequences(X_test_word_tokens, maxlen=MAX_SEQ_LENGTH, padding='post', truncating='post')\n",
    "\n",
    "model_lstm = Sequential([\n",
    "    Embedding(input_dim=10000, output_dim=64, input_length=MAX_SEQ_LENGTH),\n",
    "    LSTM(32, return_sequences=True),\n",
    "    LSTM(16),\n",
    "    Dense(16, activation='relu'),\n",
    "    Dense(len(set(labels)), activation='softmax')\n",
    "])\n",
    "\n",
    "model_lstm.compile(optimizer='adam', loss='sparse_categorical_crossentropy', metrics=['accuracy'])"
   ]
  },
  {
   "cell_type": "code",
   "execution_count": 23,
   "metadata": {},
   "outputs": [
    {
     "name": "stdout",
     "output_type": "stream",
     "text": [
      "Epoch 1/10\n",
      "\u001b[1m155/155\u001b[0m \u001b[32m━━━━━━━━━━━━━━━━━━━━\u001b[0m\u001b[37m\u001b[0m \u001b[1m5s\u001b[0m 18ms/step - accuracy: 0.0900 - loss: 2.4850 - val_accuracy: 0.1718 - val_loss: 2.3591\n",
      "Epoch 2/10\n",
      "\u001b[1m155/155\u001b[0m \u001b[32m━━━━━━━━━━━━━━━━━━━━\u001b[0m\u001b[37m\u001b[0m \u001b[1m2s\u001b[0m 15ms/step - accuracy: 0.1664 - loss: 2.2588 - val_accuracy: 0.0843 - val_loss: 2.8878\n",
      "Epoch 3/10\n",
      "\u001b[1m155/155\u001b[0m \u001b[32m━━━━━━━━━━━━━━━━━━━━\u001b[0m\u001b[37m\u001b[0m \u001b[1m2s\u001b[0m 15ms/step - accuracy: 0.0857 - loss: 2.5871 - val_accuracy: 0.0835 - val_loss: 2.4848\n",
      "Epoch 4/10\n",
      "\u001b[1m155/155\u001b[0m \u001b[32m━━━━━━━━━━━━━━━━━━━━\u001b[0m\u001b[37m\u001b[0m \u001b[1m2s\u001b[0m 15ms/step - accuracy: 0.0859 - loss: 2.4856 - val_accuracy: 0.0827 - val_loss: 2.4843\n",
      "Epoch 5/10\n",
      "\u001b[1m155/155\u001b[0m \u001b[32m━━━━━━━━━━━━━━━━━━━━\u001b[0m\u001b[37m\u001b[0m \u001b[1m2s\u001b[0m 15ms/step - accuracy: 0.0948 - loss: 2.4845 - val_accuracy: 0.0891 - val_loss: 2.4849\n",
      "Epoch 6/10\n",
      "\u001b[1m155/155\u001b[0m \u001b[32m━━━━━━━━━━━━━━━━━━━━\u001b[0m\u001b[37m\u001b[0m \u001b[1m2s\u001b[0m 14ms/step - accuracy: 0.0910 - loss: 2.4842 - val_accuracy: 0.0916 - val_loss: 2.4841\n",
      "Epoch 7/10\n",
      "\u001b[1m155/155\u001b[0m \u001b[32m━━━━━━━━━━━━━━━━━━━━\u001b[0m\u001b[37m\u001b[0m \u001b[1m2s\u001b[0m 14ms/step - accuracy: 0.0995 - loss: 2.4845 - val_accuracy: 0.0916 - val_loss: 2.4840\n",
      "Epoch 8/10\n",
      "\u001b[1m155/155\u001b[0m \u001b[32m━━━━━━━━━━━━━━━━━━━━\u001b[0m\u001b[37m\u001b[0m \u001b[1m2s\u001b[0m 14ms/step - accuracy: 0.0964 - loss: 2.4847 - val_accuracy: 0.0916 - val_loss: 2.4839\n",
      "Epoch 9/10\n",
      "\u001b[1m155/155\u001b[0m \u001b[32m━━━━━━━━━━━━━━━━━━━━\u001b[0m\u001b[37m\u001b[0m \u001b[1m2s\u001b[0m 15ms/step - accuracy: 0.0967 - loss: 2.4838 - val_accuracy: 0.0916 - val_loss: 2.4839\n",
      "Epoch 10/10\n",
      "\u001b[1m155/155\u001b[0m \u001b[32m━━━━━━━━━━━━━━━━━━━━\u001b[0m\u001b[37m\u001b[0m \u001b[1m2s\u001b[0m 15ms/step - accuracy: 0.0915 - loss: 2.4847 - val_accuracy: 0.0916 - val_loss: 2.4839\n"
     ]
    },
    {
     "data": {
      "text/plain": [
       "<keras.src.callbacks.history.History at 0x1c2177556d0>"
      ]
     },
     "execution_count": 23,
     "metadata": {},
     "output_type": "execute_result"
    }
   ],
   "source": [
    "model_lstm.fit(X_train_padded, y_train, epochs=10, batch_size=32, validation_data=(X_test_padded, y_test))"
   ]
  },
  {
   "cell_type": "markdown",
   "metadata": {},
   "source": [
    "## *Convert LSTM Model to TFLite*"
   ]
  },
  {
   "cell_type": "code",
   "execution_count": 25,
   "metadata": {},
   "outputs": [
    {
     "name": "stdout",
     "output_type": "stream",
     "text": [
      "INFO:tensorflow:Assets written to: C:\\Users\\ROG\\AppData\\Local\\Temp\\tmp7hx_1y75\\assets\n"
     ]
    },
    {
     "name": "stderr",
     "output_type": "stream",
     "text": [
      "INFO:tensorflow:Assets written to: C:\\Users\\ROG\\AppData\\Local\\Temp\\tmp7hx_1y75\\assets\n"
     ]
    },
    {
     "name": "stdout",
     "output_type": "stream",
     "text": [
      "Saved artifact at 'C:\\Users\\ROG\\AppData\\Local\\Temp\\tmp7hx_1y75'. The following endpoints are available:\n",
      "\n",
      "* Endpoint 'serve'\n",
      "  args_0 (POSITIONAL_ONLY): TensorSpec(shape=(None, 50), dtype=tf.float32, name='keras_tensor_3')\n",
      "Output Type:\n",
      "  TensorSpec(shape=(None, 12), dtype=tf.float32, name=None)\n",
      "Captures:\n",
      "  1933221622224: TensorSpec(shape=(), dtype=tf.resource, name=None)\n",
      "  1933221622800: TensorSpec(shape=(), dtype=tf.resource, name=None)\n",
      "  1933221622992: TensorSpec(shape=(), dtype=tf.resource, name=None)\n",
      "  1933221623952: TensorSpec(shape=(), dtype=tf.resource, name=None)\n",
      "  1933221622032: TensorSpec(shape=(), dtype=tf.resource, name=None)\n",
      "  1933221623568: TensorSpec(shape=(), dtype=tf.resource, name=None)\n",
      "  1933221624720: TensorSpec(shape=(), dtype=tf.resource, name=None)\n",
      "  1933221625104: TensorSpec(shape=(), dtype=tf.resource, name=None)\n",
      "  1933221625680: TensorSpec(shape=(), dtype=tf.resource, name=None)\n",
      "  1933263143568: TensorSpec(shape=(), dtype=tf.resource, name=None)\n",
      "  1933263144528: TensorSpec(shape=(), dtype=tf.resource, name=None)\n"
     ]
    }
   ],
   "source": [
    "converter = tf.lite.TFLiteConverter.from_keras_model(model_lstm)\n",
    "converter.optimizations = [tf.lite.Optimize.DEFAULT]\n",
    "converter.experimental_enable_resource_variables = True\n",
    "converter.target_spec.supported_ops = [\n",
    "    tf.lite.OpsSet.TFLITE_BUILTINS,  # Default TFLite ops\n",
    "    tf.lite.OpsSet.SELECT_TF_OPS     # Allow TensorFlow ops if needed\n",
    "]\n",
    "converter._experimental_lower_tensor_list_ops = False\n",
    "tflite_model_lstm = converter.convert()\n",
    "\n",
    "# Save the TFLite model\n",
    "with open(\"Models/lstm_emotion_model.tflite\", \"wb\") as f:\n",
    "    f.write(tflite_model_lstm)"
   ]
  },
  {
   "cell_type": "markdown",
   "metadata": {},
   "source": [
    "## *Test & Evaluate Models*"
   ]
  },
  {
   "cell_type": "code",
   "execution_count": 27,
   "metadata": {},
   "outputs": [
    {
     "name": "stdout",
     "output_type": "stream",
     "text": [
      "\u001b[1m39/39\u001b[0m \u001b[32m━━━━━━━━━━━━━━━━━━━━\u001b[0m\u001b[37m\u001b[0m \u001b[1m0s\u001b[0m 8ms/step\n",
      "              precision    recall  f1-score   support\n",
      "\n",
      "           0       0.00      0.00      0.00       110\n",
      "           1       0.00      0.00      0.00       102\n",
      "           2       0.00      0.00      0.00        97\n",
      "           3       0.00      0.00      0.00       104\n",
      "           4       0.00      0.00      0.00        95\n",
      "           5       0.00      0.00      0.00       100\n",
      "           6       0.09      1.00      0.17       113\n",
      "           7       0.00      0.00      0.00       104\n",
      "           8       0.00      0.00      0.00       101\n",
      "           9       0.00      0.00      0.00       103\n",
      "          10       0.00      0.00      0.00       100\n",
      "          11       0.00      0.00      0.00       105\n",
      "\n",
      "    accuracy                           0.09      1234\n",
      "   macro avg       0.01      0.08      0.01      1234\n",
      "weighted avg       0.01      0.09      0.02      1234\n",
      "\n"
     ]
    },
    {
     "name": "stderr",
     "output_type": "stream",
     "text": [
      "C:\\Users\\ROG\\AppData\\Roaming\\Python\\Python311\\site-packages\\sklearn\\metrics\\_classification.py:1565: UndefinedMetricWarning: Precision is ill-defined and being set to 0.0 in labels with no predicted samples. Use `zero_division` parameter to control this behavior.\n",
      "  _warn_prf(average, modifier, f\"{metric.capitalize()} is\", len(result))\n",
      "C:\\Users\\ROG\\AppData\\Roaming\\Python\\Python311\\site-packages\\sklearn\\metrics\\_classification.py:1565: UndefinedMetricWarning: Precision is ill-defined and being set to 0.0 in labels with no predicted samples. Use `zero_division` parameter to control this behavior.\n",
      "  _warn_prf(average, modifier, f\"{metric.capitalize()} is\", len(result))\n",
      "C:\\Users\\ROG\\AppData\\Roaming\\Python\\Python311\\site-packages\\sklearn\\metrics\\_classification.py:1565: UndefinedMetricWarning: Precision is ill-defined and being set to 0.0 in labels with no predicted samples. Use `zero_division` parameter to control this behavior.\n",
      "  _warn_prf(average, modifier, f\"{metric.capitalize()} is\", len(result))\n"
     ]
    },
    {
     "data": {
      "image/png": "[encoded data removed]",
      "text/plain": [
       "<Figure size 800x600 with 2 Axes>"
      ]
     },
     "metadata": {},
     "output_type": "display_data"
    }
   ],
   "source": [
    "y_pred = np.argmax(model_lstm.predict(X_test_padded), axis=1)\n",
    "print(classification_report(y_test, y_pred))\n",
    "\n",
    "cm = confusion_matrix(y_test, y_pred)\n",
    "plt.figure(figsize=(8,6))\n",
    "sns.heatmap(cm, annot=True, fmt=\"d\", cmap=\"Blues\", xticklabels=df['emotion'].unique(), yticklabels=df['emotion'].unique())\n",
    "plt.xlabel(\"Predicted\")\n",
    "plt.ylabel(\"True\")\n",
    "plt.title(\"Confusion Matrix for LSTM Model\")\n",
    "plt.show()"
   ]
  }
 ],
 "metadata": {
  "kernelspec": {
   "display_name": "Python 3",
   "language": "python",
   "name": "python3"
  },
  "language_info": {
   "codemirror_mode": {
    "name": "ipython",
    "version": 3
   },
   "file_extension": ".py",
   "mimetype": "text/x-python",
   "name": "python",
   "nbconvert_exporter": "python",
   "pygments_lexer": "ipython3",
   "version": "3.11.9"
  }
 },
 "nbformat": 4,
 "nbformat_minor": 2
}
